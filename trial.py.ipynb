{
 "cells": [
  {
   "cell_type": "code",
   "execution_count": null,
   "id": "initial_id",
   "metadata": {
    "collapsed": true,
    "is_executing": true
   },
   "outputs": [],
   "source": [
    "from fastkme import kaplan_mier_estimator"
   ]
  },
  {
   "cell_type": "code",
   "execution_count": null,
   "outputs": [],
   "source": [
    "# First we will check whethe the current kaplan mier curve and and kaplan mier curve from scikit survival are same\n",
    "\n",
    "\n",
    "import numpy as np\n",
    "\n",
    "np.random.seed(324234324)\n",
    "event = np.random.randint(0,2,100)\n",
    "time = np.random.randint(0,5000,100)\n",
    "\n"
   ],
   "metadata": {
    "collapsed": false
   },
   "id": "e0278e4a9f68ab7f"
  }
 ],
 "metadata": {
  "kernelspec": {
   "display_name": "Python 3",
   "language": "python",
   "name": "python3"
  },
  "language_info": {
   "codemirror_mode": {
    "name": "ipython",
    "version": 2
   },
   "file_extension": ".py",
   "mimetype": "text/x-python",
   "name": "python",
   "nbconvert_exporter": "python",
   "pygments_lexer": "ipython2",
   "version": "2.7.6"
  }
 },
 "nbformat": 4,
 "nbformat_minor": 5
}
